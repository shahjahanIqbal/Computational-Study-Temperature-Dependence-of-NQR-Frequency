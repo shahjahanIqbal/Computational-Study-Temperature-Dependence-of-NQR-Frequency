{
 "cells": [
  {
   "cell_type": "markdown",
   "metadata": {},
   "source": [
    "Importing modules"
   ]
  },
  {
   "cell_type": "code",
   "execution_count": 90,
   "metadata": {},
   "outputs": [],
   "source": [
    "import numpy as np\n",
    "from scipy.interpolate import interp1d\n",
    "import matplotlib.pyplot as plt\n",
    "from numpy import genfromtxt\n",
    "import sympy as smp\n",
    "import decimal\n",
    "import pandas as pd\n",
    "import sympy as smp\n",
    "from decimal import *"
   ]
  },
  {
   "cell_type": "markdown",
   "metadata": {},
   "source": [
    "Importing data from csv file and Storing them in arrays [f - NQR Frequency T - Temperature]"
   ]
  },
  {
   "cell_type": "code",
   "execution_count": 1,
   "metadata": {},
   "outputs": [
    {
     "ename": "NameError",
     "evalue": "name 'genfromtxt' is not defined",
     "output_type": "error",
     "traceback": [
      "\u001b[1;31m---------------------------------------------------------------------------\u001b[0m",
      "\u001b[1;31mNameError\u001b[0m                                 Traceback (most recent call last)",
      "\u001b[1;32md:\\IAPT\\Fortran.ipynb Cell 4\u001b[0m in \u001b[0;36m<cell line: 1>\u001b[1;34m()\u001b[0m\n\u001b[1;32m----> <a href='vscode-notebook-cell:/d%3A/IAPT/Fortran.ipynb#W1sZmlsZQ%3D%3D?line=0'>1</a>\u001b[0m data \u001b[39m=\u001b[39m genfromtxt(\u001b[39m'\u001b[39m\u001b[39mTempDep.csv\u001b[39m\u001b[39m'\u001b[39m, delimiter\u001b[39m=\u001b[39m\u001b[39m\"\u001b[39m\u001b[39m,\u001b[39m\u001b[39m\"\u001b[39m)[\u001b[39m1\u001b[39m:]\n\u001b[0;32m      <a href='vscode-notebook-cell:/d%3A/IAPT/Fortran.ipynb#W1sZmlsZQ%3D%3D?line=1'>2</a>\u001b[0m f \u001b[39m=\u001b[39m np\u001b[39m.\u001b[39marray(data[:,\u001b[39m1\u001b[39m:])\u001b[39m.\u001b[39mflatten()\n\u001b[0;32m      <a href='vscode-notebook-cell:/d%3A/IAPT/Fortran.ipynb#W1sZmlsZQ%3D%3D?line=2'>3</a>\u001b[0m T \u001b[39m=\u001b[39m np\u001b[39m.\u001b[39marray(data[:,:\u001b[39m1\u001b[39m])\u001b[39m.\u001b[39mflatten()\n",
      "\u001b[1;31mNameError\u001b[0m: name 'genfromtxt' is not defined"
     ]
    }
   ],
   "source": [
    "data = genfromtxt('TempDep.csv', delimiter=\",\")[1:]\n",
    "f = np.array(data[:,1:]).flatten()\n",
    "T = np.array(data[:,:1]).flatten()\n"
   ]
  },
  {
   "cell_type": "markdown",
   "metadata": {},
   "source": [
    "Plotting T vs f from above data"
   ]
  },
  {
   "cell_type": "code",
   "execution_count": 99,
   "metadata": {},
   "outputs": [
    {
     "data": {
      "text/plain": [
       "(0.0, 310.0)"
      ]
     },
     "execution_count": 99,
     "metadata": {},
     "output_type": "execute_result"
    },
    {
     "data": {
      "image/png": "[encoded data removed]",
      "text/plain": [
       "<Figure size 432x288 with 1 Axes>"
      ]
     },
     "metadata": {
      "needs_background": "light"
     },
     "output_type": "display_data"
    }
   ],
   "source": [
    "inter = interp1d(f, T, kind='linear')\n",
    "plt.scatter(T, f)\n",
    "plt.xlabel('Temperature [K]')\n",
    "plt.ylabel('Frequency [MHz]')\n",
    "plt.xlim(0,310)"
   ]
  },
  {
   "cell_type": "markdown",
   "metadata": {},
   "source": [
    "4th order polynomial approximation to obtain value of $\\nu_0$"
   ]
  },
  {
   "cell_type": "code",
   "execution_count": 112,
   "metadata": {},
   "outputs": [
    {
     "name": "stdout",
     "output_type": "stream",
     "text": [
      "            4             3             2\n",
      "-5.861e-11 x + 4.251e-08 x - 1.464e-05 x - 0.001155 x + 34.28\n"
     ]
    }
   ],
   "source": [
    "z = np.polyfit(T,f,4)\n",
    "p = np.poly1d(z)\n",
    "print(np.poly1d(p))"
   ]
  },
  {
   "cell_type": "code",
   "execution_count": 113,
   "metadata": {},
   "outputs": [
    {
     "data": {
      "text/plain": [
       "<matplotlib.collections.PathCollection at 0x2151c818f10>"
      ]
     },
     "execution_count": 113,
     "metadata": {},
     "output_type": "execute_result"
    },
    {
     "data": {
      "image/png": "[encoded data removed]",
      "text/plain": [
       "<Figure size 432x288 with 1 Axes>"
      ]
     },
     "metadata": {
      "needs_background": "light"
     },
     "output_type": "display_data"
    }
   ],
   "source": [
    "plt.plot(T, p(T), color = 'orange')\n",
    "plt.scatter(T, f, color = 'black')\n"
   ]
  },
  {
   "cell_type": "markdown",
   "metadata": {},
   "source": [
    "Initializing the constants\n",
    "\n",
    "$A_x, A_y$ - Moment of inertia "
   ]
  },
  {
   "cell_type": "code",
   "execution_count": 101,
   "metadata": {},
   "outputs": [
    {
     "data": {
      "text/plain": [
       "34.225"
      ]
     },
     "execution_count": 101,
     "metadata": {},
     "output_type": "execute_result"
    }
   ],
   "source": [
    "vo =34.225\n",
    "k = 1.38 * 10 ** (-16)\n",
    "h = 6.626 * 10 **(-27)\n",
    "pi = np.pi\n",
    "fx = np.arange(11, 101,1, dtype = 'float64') \n",
    "Ax = 791.32 * 10**-40\n",
    "Ay = 577.50 * 10**-40\n",
    "c = 3 * 10**10\n",
    "vo"
   ]
  },
  {
   "cell_type": "markdown",
   "metadata": {},
   "source": [
    "$a = \\frac{3h}{8\\pi^2c} \\\\ f_y = f_x \\sqrt(\\frac{A_x}{A_y}) $"
   ]
  },
  {
   "cell_type": "markdown",
   "metadata": {},
   "source": [
    " $e_x = \\frac{1}{2} + \\frac{1}{e^(\\frac{hcf_{x_i}}{kT_j})-1} \\\\ e_y = \\frac{1}{2} + \\frac{1}{e^(\\frac{hcf_{y_i}}{kT_j})-1}$"
   ]
  },
  {
   "cell_type": "markdown",
   "metadata": {},
   "source": [
    "$ \\begin{align}  I_x &  = \\frac{a}{A_xf_{x_i}}e_x \\\\ & = \\frac{\\frac{3h}{8\\pi^2c}}{A_xf_{x_i}} (\\frac{1}{2} + \\frac{1}{e^(\\frac{hcf_{x_i}}{kT_j})-1} ) \\end{align}\n",
    "$ \n",
    "$\\begin{align} I_y & =\\frac{a}{A_yf_{y_i}}e_y  \\\\ & =  \\frac{\\frac{3h}{8\\pi^2c}}{A_yf_{y_i}} (\\frac{1}{2} + \\frac{1}{e^(\\frac{hcf_{y_i}}{kT_j})-1} ) \\end{align}$"
   ]
  },
  {
   "cell_type": "code",
   "execution_count": 102,
   "metadata": {},
   "outputs": [],
   "source": [
    "a = 3 * h / ( 8 * pi**2 * c)\n",
    "ratioIxIy = np.sqrt(Ax/Ay)\n",
    "fy = fx * ratioIxIy\n",
    "\n",
    "#Initializing arrays to store the results\n",
    "IX = np.empty(np.size(f))\n",
    "IY = np.empty(np.size(f))\n",
    "rr = np.empty((np.size(f), np.size(fx)))\n",
    "res = np.empty(np.size(f))\n",
    "\n",
    "#Creating/ opening an output text file to store results\n",
    "op = open('Output.txt', 'w')\n",
    "op.seek(0)\n",
    "op.truncate()\n",
    "\n",
    "#Function to calculate the result\n",
    "\n",
    "def sum():\n",
    "    for j in range(np.size(f)):\n",
    "        temp = []\n",
    "        error = []\n",
    "        f1 = []\n",
    "        f2  = []\n",
    "        result = []\n",
    "        op = open('Output.txt', 'a')\n",
    "        IX = np.empty(np.size(f))\n",
    "        IY = np.empty(np.size(f))\n",
    "        for i in range(np.size(fx)):\n",
    "            ex = 0.5 + 1 / ( np.exp( ( h * c * fx[i] ) / ( k * T[j] ) ) - 1 )\n",
    "            ey = 0.5 + 1 / ( np.exp( ( h * c * fy[i] ) / ( k * T[j] ) ) - 1 )\n",
    "            IX = a / ( Ax * fx[i] ) * ex\n",
    "            IY = a / ( Ay * fy[i] ) * ey\n",
    "            rhs = vo * (1 - IX - IY)\n",
    "            er = rhs - f[j]\n",
    "            result.append(rhs)\n",
    "            error.append(er)\n",
    "            print(f\" T: {T[j]} RHS : {rhs} Error: {error[i]}  fx: {fx[i]} fy: {fy[i]}\",file = op)\n",
    "            temp.append(T[j])\n",
    "            f1.append(fx[i])\n",
    "            f2.append(fy[i])\n",
    "     \n",
    "        for z, ind in zip(np.abs(error), range(np.size(error))):\n",
    "            if(min(np.abs(error)) == z):\n",
    "                print(f\"Temp = {T[j]} min error: {np.abs(z)}  rhs: {rhs}  fx: {f1[ind]} fy: {f2[ind]}\")\n",
    "\n",
    "        print(f\" T: {T[j]} RHS : {rhs} Error: {min(np.abs(error))}  fx: {fx[i]} fy: {fy[i]}\",file = op)\n",
    "        \n",
    "   \n",
    "    \n",
    "        \n",
    "op.close()"
   ]
  },
  {
   "cell_type": "code",
   "execution_count": 103,
   "metadata": {},
   "outputs": [
    {
     "name": "stdout",
     "output_type": "stream",
     "text": [
      "Temp = 77.0 min error: 0.0012248404502841481  rhs: 34.17364560510304  fx: 64.0 fy: 74.9169435635253\n",
      "Temp = 95.0 min error: 0.0013361146068433527  rhs: 34.166727992184455  fx: 57.0 fy: 66.72290286126471\n",
      "Temp = 105.0 min error: 0.000649077415324939  rhs: 34.16260494415577  fx: 55.0 fy: 64.38174837490455\n",
      "Temp = 115.0 min error: 0.0019821076443093943  rhs: 34.158338251669264  fx: 53.0 fy: 62.040593888544386\n",
      "Temp = 125.0 min error: 0.001795769602836117  rhs: 34.153958251283434  fx: 51.0 fy: 59.69943940218422\n",
      "Temp = 135.0 min error: 0.005060081864620258  rhs: 34.14948755306491  fx: 50.0 fy: 58.528862159004134\n",
      "Temp = 141.0 min error: 0.0017967806829233268  rhs: 34.146768898794576  fx: 48.0 fy: 56.18770767264397\n",
      "Temp = 153.0 min error: 0.00557083925504287  rhs: 34.14126381581469  fx: 47.0 fy: 55.01713042946389\n",
      "Temp = 165.0 min error: 0.004306710450201479  rhs: 34.135683683361194  fx: 46.0 fy: 53.846553186283806\n",
      "Temp = 180.0 min error: 0.00918577507778906  rhs: 34.128624518314645  fx: 46.0 fy: 53.846553186283806\n",
      "Temp = 195.0 min error: 0.008928705072065668  rhs: 34.12149112730212  fx: 45.0 fy: 52.67597594310372\n",
      "Temp = 210.0 min error: 0.0018508628362923218  rhs: 34.114298739099176  fx: 44.0 fy: 51.50539869992364\n",
      "Temp = 223.0 min error: 0.005318908916180476  rhs: 34.10802647384479  fx: 43.0 fy: 50.334821456743555\n",
      "Temp = 232.0 min error: 0.006230071102955037  rhs: 34.103666255460176  fx: 43.0 fy: 50.334821456743555\n",
      "Temp = 243.0 min error: 0.015264302388615647  rhs: 34.09831984838343  fx: 42.0 fy: 49.16424421356347\n",
      "Temp = 255.0 min error: 0.011452498134204347  rhs: 34.092468403029166  fx: 42.0 fy: 49.16424421356347\n",
      "Temp = 266.0 min error: 0.01619382292370375  rhs: 34.08708933043215  fx: 42.0 fy: 49.16424421356347\n",
      "Temp = 280.0 min error: 0.012394422145248996  rhs: 34.08022486794851  fx: 41.0 fy: 47.993666970383394\n",
      "Temp = 291.0 min error: 0.02105622708545951  rhs: 34.07481867606014  fx: 41.0 fy: 47.993666970383394\n",
      "Temp = 300.0 min error: 0.013350166660330842  rhs: 34.070388047396385  fx: 40.0 fy: 46.82308972720331\n"
     ]
    }
   ],
   "source": [
    "sum()\n"
   ]
  },
  {
   "cell_type": "markdown",
   "metadata": {},
   "source": []
  }
 ],
 "metadata": {
  "kernelspec": {
   "display_name": "Python 3.9.13 64-bit",
   "language": "python",
   "name": "python3"
  },
  "language_info": {
   "codemirror_mode": {
    "name": "ipython",
    "version": 3
   },
   "file_extension": ".py",
   "mimetype": "text/x-python",
   "name": "python",
   "nbconvert_exporter": "python",
   "pygments_lexer": "ipython3",
   "version": "3.9.13"
  },
  "orig_nbformat": 4,
  "vscode": {
   "interpreter": {
    "hash": "28b12c5a4ce49c1f58bdc250bcadab89b2bd5f1dcc58f33afbe1bc3667f2a5e7"
   }
  }
 },
 "nbformat": 4,
 "nbformat_minor": 2
}
